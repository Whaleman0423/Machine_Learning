{
  "nbformat": 4,
  "nbformat_minor": 0,
  "metadata": {
    "colab": {
      "name": "tibame機器學習0922",
      "provenance": [],
      "collapsed_sections": [],
      "authorship_tag": "ABX9TyNOHrAn9zKMawVPfBzNccc9",
      "include_colab_link": true
    },
    "kernelspec": {
      "name": "python3",
      "display_name": "Python 3"
    },
    "language_info": {
      "name": "python"
    }
  },
  "cells": [
    {
      "cell_type": "markdown",
      "metadata": {
        "id": "view-in-github",
        "colab_type": "text"
      },
      "source": [
        "<a href=\"https://colab.research.google.com/github/Whaleman0423/Tibame_machine_learning0922/blob/main/tibame%E6%A9%9F%E5%99%A8%E5%AD%B8%E7%BF%920922%E4%B8%8A%E5%8D%88.ipynb\" target=\"_parent\"><img src=\"https://colab.research.google.com/assets/colab-badge.svg\" alt=\"Open In Colab\"/></a>"
      ]
    },
    {
      "cell_type": "markdown",
      "metadata": {
        "id": "medIqJOr3CfZ"
      },
      "source": [
        "##latex語法\n",
        "### H1\n",
        "#### H2\n",
        "\n",
        "$ c = \\frac {1}{a + b + \\pi} \\times {d} $\n",
        "\n",
        "### 上午場\n"
      ]
    },
    {
      "cell_type": "markdown",
      "metadata": {
        "id": "L-BikEWZfz2a"
      },
      "source": [
        "# classification"
      ]
    },
    {
      "cell_type": "code",
      "metadata": {
        "id": "v5vLCHj42mCU"
      },
      "source": [
        "import tensorflow.keras\n",
        "import pandas as pd\n",
        "import matplotlib\n",
        "import seaborn\n",
        "\n",
        "from sklearn.datasets import load_iris"
      ],
      "execution_count": null,
      "outputs": []
    },
    {
      "cell_type": "code",
      "metadata": {
        "id": "FcOfQYGCl_Ai"
      },
      "source": [
        "load_iris() # 字典格式\n",
        "# 'data':陣列 'feature_names':清單"
      ],
      "execution_count": null,
      "outputs": []
    },
    {
      "cell_type": "code",
      "metadata": {
        "colab": {
          "base_uri": "https://localhost:8080/",
          "height": 414
        },
        "id": "BXdK2BOUi8kP",
        "outputId": "92684034-f894-4ac2-e0c5-e6e2e2ab2c01"
      },
      "source": [
        "# https://scikit-learn.org/stable/datasets/toy_dataset.html\n",
        "from sklearn.datasets import load_iris\n",
        "iris = load_iris() # 字典 \n",
        "# sepal 花萼 petal 花瓣\n",
        "# 'target_names' 花的種類 \n",
        "pd.DataFrame(iris[\"data\"], columns=iris['feature_names'])  # pd.DataFrame(陣列, columns=[]#清單)\n"
      ],
      "execution_count": null,
      "outputs": [
        {
          "output_type": "execute_result",
          "data": {
            "text/html": [
              "<div>\n",
              "<style scoped>\n",
              "    .dataframe tbody tr th:only-of-type {\n",
              "        vertical-align: middle;\n",
              "    }\n",
              "\n",
              "    .dataframe tbody tr th {\n",
              "        vertical-align: top;\n",
              "    }\n",
              "\n",
              "    .dataframe thead th {\n",
              "        text-align: right;\n",
              "    }\n",
              "</style>\n",
              "<table border=\"1\" class=\"dataframe\">\n",
              "  <thead>\n",
              "    <tr style=\"text-align: right;\">\n",
              "      <th></th>\n",
              "      <th>sepal length (cm)</th>\n",
              "      <th>sepal width (cm)</th>\n",
              "      <th>petal length (cm)</th>\n",
              "      <th>petal width (cm)</th>\n",
              "    </tr>\n",
              "  </thead>\n",
              "  <tbody>\n",
              "    <tr>\n",
              "      <th>0</th>\n",
              "      <td>5.1</td>\n",
              "      <td>3.5</td>\n",
              "      <td>1.4</td>\n",
              "      <td>0.2</td>\n",
              "    </tr>\n",
              "    <tr>\n",
              "      <th>1</th>\n",
              "      <td>4.9</td>\n",
              "      <td>3.0</td>\n",
              "      <td>1.4</td>\n",
              "      <td>0.2</td>\n",
              "    </tr>\n",
              "    <tr>\n",
              "      <th>2</th>\n",
              "      <td>4.7</td>\n",
              "      <td>3.2</td>\n",
              "      <td>1.3</td>\n",
              "      <td>0.2</td>\n",
              "    </tr>\n",
              "    <tr>\n",
              "      <th>3</th>\n",
              "      <td>4.6</td>\n",
              "      <td>3.1</td>\n",
              "      <td>1.5</td>\n",
              "      <td>0.2</td>\n",
              "    </tr>\n",
              "    <tr>\n",
              "      <th>4</th>\n",
              "      <td>5.0</td>\n",
              "      <td>3.6</td>\n",
              "      <td>1.4</td>\n",
              "      <td>0.2</td>\n",
              "    </tr>\n",
              "    <tr>\n",
              "      <th>...</th>\n",
              "      <td>...</td>\n",
              "      <td>...</td>\n",
              "      <td>...</td>\n",
              "      <td>...</td>\n",
              "    </tr>\n",
              "    <tr>\n",
              "      <th>145</th>\n",
              "      <td>6.7</td>\n",
              "      <td>3.0</td>\n",
              "      <td>5.2</td>\n",
              "      <td>2.3</td>\n",
              "    </tr>\n",
              "    <tr>\n",
              "      <th>146</th>\n",
              "      <td>6.3</td>\n",
              "      <td>2.5</td>\n",
              "      <td>5.0</td>\n",
              "      <td>1.9</td>\n",
              "    </tr>\n",
              "    <tr>\n",
              "      <th>147</th>\n",
              "      <td>6.5</td>\n",
              "      <td>3.0</td>\n",
              "      <td>5.2</td>\n",
              "      <td>2.0</td>\n",
              "    </tr>\n",
              "    <tr>\n",
              "      <th>148</th>\n",
              "      <td>6.2</td>\n",
              "      <td>3.4</td>\n",
              "      <td>5.4</td>\n",
              "      <td>2.3</td>\n",
              "    </tr>\n",
              "    <tr>\n",
              "      <th>149</th>\n",
              "      <td>5.9</td>\n",
              "      <td>3.0</td>\n",
              "      <td>5.1</td>\n",
              "      <td>1.8</td>\n",
              "    </tr>\n",
              "  </tbody>\n",
              "</table>\n",
              "<p>150 rows × 4 columns</p>\n",
              "</div>"
            ],
            "text/plain": [
              "     sepal length (cm)  sepal width (cm)  petal length (cm)  petal width (cm)\n",
              "0                  5.1               3.5                1.4               0.2\n",
              "1                  4.9               3.0                1.4               0.2\n",
              "2                  4.7               3.2                1.3               0.2\n",
              "3                  4.6               3.1                1.5               0.2\n",
              "4                  5.0               3.6                1.4               0.2\n",
              "..                 ...               ...                ...               ...\n",
              "145                6.7               3.0                5.2               2.3\n",
              "146                6.3               2.5                5.0               1.9\n",
              "147                6.5               3.0                5.2               2.0\n",
              "148                6.2               3.4                5.4               2.3\n",
              "149                5.9               3.0                5.1               1.8\n",
              "\n",
              "[150 rows x 4 columns]"
            ]
          },
          "metadata": {},
          "execution_count": 21
        }
      ]
    },
    {
      "cell_type": "code",
      "metadata": {
        "id": "h5SZtwpunZWF"
      },
      "source": [
        "df = pd.DataFrame(iris['data'], columns=iris['feature_names'])  # DataFrame\n",
        "print(type([1,2,3]))\n",
        "print(type(df))\n",
        "type(df)"
      ],
      "execution_count": null,
      "outputs": []
    },
    {
      "cell_type": "code",
      "metadata": {
        "colab": {
          "base_uri": "https://localhost:8080/"
        },
        "id": "GEpgm92FoeJw",
        "outputId": "1b339fe2-7365-4802-962a-dfc882e7a788"
      },
      "source": [
        "df[\"sepal length (cm)\"]  # 降維度 降成 Series\n",
        "# type(df['sepal length (cm)'])"
      ],
      "execution_count": null,
      "outputs": [
        {
          "output_type": "execute_result",
          "data": {
            "text/plain": [
              "pandas.core.series.Series"
            ]
          },
          "metadata": {},
          "execution_count": 26
        }
      ]
    },
    {
      "cell_type": "code",
      "metadata": {
        "id": "KiChZC5bpY_k"
      },
      "source": [
        "# 加上 答案欄位\n",
        "df[\"ans\"] = iris[\"target\"]\n",
        "df"
      ],
      "execution_count": null,
      "outputs": []
    },
    {
      "cell_type": "markdown",
      "metadata": {
        "id": "SiZeIfGJqAq-"
      },
      "source": [
        "#ML 機器學習 千筆到萬筆\n",
        "#DL 深度學習 萬筆到十萬筆\n",
        "# 量 -> 取決於問題的複雜度\n"
      ]
    },
    {
      "cell_type": "code",
      "metadata": {
        "id": "DlcV4Fttqy5B"
      },
      "source": [
        "# 將資料切成兩份 訓練組及驗證組 驗證模型參數合不合適\n",
        "from sklearn.model_selection import train_test_split\n",
        "# 進入sklearn以後, 我們就不要用df,\n",
        "# 因為 df 資料會隨機切割\n",
        "# 改用 numpy array\n",
        "import numpy as np\n",
        "\n",
        "y = np.array(df[\"ans\"]) # 答案\n",
        "# x -> 參數 y -> 答案\n",
        "\n",
        "# 將 df 去除掉答案用 drop\n",
        "# df.drop([所有要 drop 的欄位])\n",
        "# pandas.drop ： https://pandas.pydata.org/docs/reference/api/pandas.DataFrame.drop.html\n",
        "# DataFrame.drop(labels=None, axis=0, index=None, columns=None, level=None, inplace=False, errors='raise')\n",
        "# axis參數 ： 0 -> 橫 1 ->直的\n",
        "\n",
        "# df.drop(['ans'], axis=1)  # 去除掉 ans直行\n",
        "x = np.array(df.drop(['ans'], axis=1)) \n",
        "y"
      ],
      "execution_count": null,
      "outputs": []
    },
    {
      "cell_type": "markdown",
      "metadata": {
        "id": "28d8SBDG3-tr"
      },
      "source": [
        "# sklearn.model_selection.train_test_split(*arrays, test_size=None, train_size=None, random_state=None, shuffle=True, stratify=None)"
      ]
    },
    {
      "cell_type": "code",
      "metadata": {
        "colab": {
          "base_uri": "https://localhost:8080/"
        },
        "id": "Iu0zR8Jk2bia",
        "outputId": "549de49d-18f7-4ed2-9c02-f925df97261d"
      },
      "source": [
        "train_test_split([1, 2, 3, 4],\n",
        "         [5, 6, 7, 8],       \n",
        "         test_size=0.25       \n",
        "          ) # 0.25 -> 四分之一作測試，四分之三做為訓練"
      ],
      "execution_count": 31,
      "outputs": [
        {
          "output_type": "execute_result",
          "data": {
            "text/plain": [
              "[[2, 4, 3], [1], [6, 8, 7], [5]]"
            ]
          },
          "metadata": {},
          "execution_count": 31
        }
      ]
    },
    {
      "cell_type": "code",
      "metadata": {
        "colab": {
          "base_uri": "https://localhost:8080/"
        },
        "id": "ilNEQzsH4ZWq",
        "outputId": "192aef34-9881-42f1-806d-0a24d405aef3"
      },
      "source": [
        "train_test_split([1, 2, 3, 4],\n",
        "         [5, 6, 7, 8],\n",
        "         [9, 10, 11, 12],       \n",
        "         test_size=0.25       \n",
        "          )"
      ],
      "execution_count": 32,
      "outputs": [
        {
          "output_type": "execute_result",
          "data": {
            "text/plain": [
              "[[3, 4, 1], [2], [7, 8, 5], [6], [11, 12, 9], [10]]"
            ]
          },
          "metadata": {},
          "execution_count": 32
        }
      ]
    },
    {
      "cell_type": "code",
      "metadata": {
        "colab": {
          "base_uri": "https://localhost:8080/"
        },
        "id": "SNr7oAng5kNu",
        "outputId": "aac0c397-5931-4935-fafe-c82dbd6f830d"
      },
      "source": [
        "# 90%x , 10%x , 90%y , 10%y \n",
        "# train_test_split(x, y, test_size=0.1)\n",
        "x_train, x_test, y_train, y_test = train_test_split(x, y, test_size=0.1)\n",
        "\n",
        "\n",
        "# numpy ： .shape   # 出來的結果\n",
        "print(x_train.shape)   # (筆數, 多少欄位)\n",
        "print(x_test.shape)\n",
        "print(y_train.shape)   # 沒有欄位 因為是一維的\n",
        "print(y_test.shape) "
      ],
      "execution_count": 47,
      "outputs": [
        {
          "output_type": "stream",
          "name": "stdout",
          "text": [
            "(135, 4)\n",
            "(15, 4)\n",
            "(135,)\n",
            "(15,)\n"
          ]
        }
      ]
    }
  ]
}