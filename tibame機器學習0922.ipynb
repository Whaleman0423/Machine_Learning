{
  "nbformat": 4,
  "nbformat_minor": 0,
  "metadata": {
    "colab": {
      "name": "tibame機器學習0922",
      "provenance": [],
      "collapsed_sections": [],
      "authorship_tag": "ABX9TyPZyIjQgMTlFvfUb8DZ902r",
      "include_colab_link": true
    },
    "kernelspec": {
      "name": "python3",
      "display_name": "Python 3"
    },
    "language_info": {
      "name": "python"
    }
  },
  "cells": [
    {
      "cell_type": "markdown",
      "metadata": {
        "id": "view-in-github",
        "colab_type": "text"
      },
      "source": [
        "<a href=\"https://colab.research.google.com/github/Whaleman0423/Tibame_machine_learning0922/blob/main/tibame%E6%A9%9F%E5%99%A8%E5%AD%B8%E7%BF%920922.ipynb\" target=\"_parent\"><img src=\"https://colab.research.google.com/assets/colab-badge.svg\" alt=\"Open In Colab\"/></a>"
      ]
    },
    {
      "cell_type": "markdown",
      "metadata": {
        "id": "medIqJOr3CfZ"
      },
      "source": [
        "##latex語法\n",
        "### H1\n",
        "#### H2\n",
        "\n",
        "$ c = \\frac {1}{a + b + \\pi} \\times {d} $"
      ]
    },
    {
      "cell_type": "code",
      "metadata": {
        "id": "v5vLCHj42mCU"
      },
      "source": [
        ""
      ],
      "execution_count": null,
      "outputs": []
    }
  ]
}